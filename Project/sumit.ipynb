{
 "cells": [
  {
   "cell_type": "code",
   "execution_count": 1,
   "id": "30407a3f",
   "metadata": {},
   "outputs": [
    {
     "name": "stderr",
     "output_type": "stream",
     "text": [
      "C:\\Users\\yagne\\AppData\\Local\\Temp\\ipykernel_5248\\1808062044.py:12: FutureWarning: YF.download() has changed argument auto_adjust default to True\n",
      "  sp500_data = yf.download(ticker, start=start_date, end=end_date)\n",
      "[*********************100%***********************]  1 of 1 completed\n"
     ]
    }
   ],
   "source": [
    "import pandas as pd\n",
    "import yfinance as yf\n",
    "\n",
    "# Define the ticker symbol for the S&P 500 index\n",
    "ticker = '^GSPC'\n",
    "\n",
    "# Set the date range\n",
    "start_date = '2008-01-01'\n",
    "end_date = '2023-12-31'\n",
    "\n",
    "# Download the historical OHLCV data\n",
    "sp500_data = yf.download(ticker, start=start_date, end=end_date)"
   ]
  },
  {
   "cell_type": "code",
   "execution_count": 2,
   "id": "0c37ff7a",
   "metadata": {},
   "outputs": [
    {
     "name": "stderr",
     "output_type": "stream",
     "text": [
      "Device set to use cpu\n"
     ]
    }
   ],
   "source": [
    "from transformers import AutoTokenizer, AutoModelForSequenceClassification\n",
    "from transformers import pipeline\n",
    "\n",
    "# Load tokenizer and model from Hugging Face\n",
    "tokenizer = AutoTokenizer.from_pretrained(\"yiyanghkust/finbert-tone\")\n",
    "model = AutoModelForSequenceClassification.from_pretrained(\"yiyanghkust/finbert-tone\")\n",
    "\n",
    "# Create sentiment analysis pipeline\n",
    "finbert = pipeline(\"sentiment-analysis\", model=model, tokenizer=tokenizer)\n"
   ]
  },
  {
   "cell_type": "code",
   "execution_count": 4,
   "id": "73cd800e",
   "metadata": {},
   "outputs": [
    {
     "name": "stdout",
     "output_type": "stream",
     "text": [
      "[{'label': 'Positive', 'score': 1.0}]\n"
     ]
    }
   ],
   "source": [
    "headline = \"Tesla reports record profits beating analyst expectations\"\n",
    "\n",
    "result = finbert(headline)\n",
    "print(result)\n"
   ]
  },
  {
   "cell_type": "code",
   "execution_count": 5,
   "id": "f852cdd1",
   "metadata": {},
   "outputs": [
    {
     "name": "stdout",
     "output_type": "stream",
     "text": [
      "                                               Title       Date       CP\n",
      "0   JPMorgan Predicts 2008 Will Be \"Nothing But Net\"   1/2/2008  1447.16\n",
      "1  Dow Tallies Biggest First-session-of-year Poin...   1/2/2008  1447.16\n",
      "2                   2008 predictions for the S&P 500   1/2/2008  1447.16\n",
      "3  U.S. Stocks Higher After Economic Data, Monsan...   1/3/2008  1447.16\n",
      "4  U.S. Stocks Climb As Hopes Increase For More F...   1/7/2008  1416.18\n",
      "5  How Investing in Intangibles -- Like Employee ...   1/9/2008  1409.13\n",
      "6         Head And Shoulders Top Bodes Ill For Bulls   1/9/2008  1409.13\n",
      "7  U.S. Stocks Zigzag Higher As Bernanke Speech S...  1/10/2008  1420.33\n",
      "8  It's a Black Monday as stock markets tank in e...  1/22/2008  1310.50\n",
      "9      U.S. Stocks Largely Recover From Early Plunge  1/22/2008  1310.50\n"
     ]
    }
   ],
   "source": [
    "dn = pd.read_csv(\"news_data.csv\")\n",
    "print(dn.head(10))\n",
    "df = pd.read_csv(\"ohlcv_data.csv\")"
   ]
  },
  {
   "cell_type": "code",
   "execution_count": 6,
   "id": "0e8e8566",
   "metadata": {},
   "outputs": [
    {
     "name": "stdout",
     "output_type": "stream",
     "text": [
      "[{'label': 'Neutral', 'score': 0.9923882484436035}]\n",
      "[{'label': 'Positive', 'score': 0.4879378378391266}]\n",
      "[{'label': 'Neutral', 'score': 0.999624490737915}]\n",
      "[{'label': 'Positive', 'score': 0.9999986886978149}]\n",
      "[{'label': 'Positive', 'score': 0.9838525056838989}]\n",
      "[{'label': 'Neutral', 'score': 0.9983394145965576}]\n",
      "[{'label': 'Negative', 'score': 0.9846346974372864}]\n",
      "[{'label': 'Neutral', 'score': 0.8774247765541077}]\n",
      "[{'label': 'Neutral', 'score': 0.9999880790710449}]\n",
      "[{'label': 'Positive', 'score': 0.998782217502594}]\n"
     ]
    }
   ],
   "source": [
    "for i in dn['Title'].head(10):\n",
    "    results = finbert(i)\n",
    "    print(results)"
   ]
  },
  {
   "cell_type": "code",
   "execution_count": 15,
   "id": "cca6cf02",
   "metadata": {},
   "outputs": [
    {
     "ename": "NameError",
     "evalue": "name 'groupby' is not defined",
     "output_type": "error",
     "traceback": [
      "\u001b[31m---------------------------------------------------------------------------\u001b[39m",
      "\u001b[31mNameError\u001b[39m                                 Traceback (most recent call last)",
      "\u001b[36mCell\u001b[39m\u001b[36m \u001b[39m\u001b[32mIn[15]\u001b[39m\u001b[32m, line 18\u001b[39m\n\u001b[32m     13\u001b[39m dn[\u001b[33m'\u001b[39m\u001b[33msentiment\u001b[39m\u001b[33m'\u001b[39m] = sentiments\n\u001b[32m     15\u001b[39m \u001b[38;5;66;03m# print(dn.head(11))\u001b[39;00m\n\u001b[32m     16\u001b[39m \n\u001b[32m     17\u001b[39m \u001b[38;5;66;03m# Mean sentiment score per day\u001b[39;00m\n\u001b[32m---> \u001b[39m\u001b[32m18\u001b[39m daily_mean = \u001b[43mgroupby\u001b[49m(\u001b[33m\"\u001b[39m\u001b[33mDate\u001b[39m\u001b[33m\"\u001b[39m, sort= \u001b[38;5;28;01mFalse\u001b[39;00m)[\u001b[33m\"\u001b[39m\u001b[33msentiment_score\u001b[39m\u001b[33m\"\u001b[39m].mean().round(\u001b[32m2\u001b[39m).reset_index(name=\u001b[33m\"\u001b[39m\u001b[33mmean_sentiment\u001b[39m\u001b[33m\"\u001b[39m)\n\u001b[32m     20\u001b[39m \u001b[38;5;66;03m# Mean per sentiment category\u001b[39;00m\n\u001b[32m     21\u001b[39m pivot = pivot_table(values=\u001b[33m\"\u001b[39m\u001b[33msentiment_score\u001b[39m\u001b[33m\"\u001b[39m, index=\u001b[33m\"\u001b[39m\u001b[33mDate\u001b[39m\u001b[33m\"\u001b[39m, columns=\u001b[33m\"\u001b[39m\u001b[33msentiment\u001b[39m\u001b[33m\"\u001b[39m, aggfunc=\u001b[33m\"\u001b[39m\u001b[33mmean\u001b[39m\u001b[33m\"\u001b[39m, sort= \u001b[38;5;28;01mFalse\u001b[39;00m)\n",
      "\u001b[31mNameError\u001b[39m: name 'groupby' is not defined"
     ]
    }
   ],
   "source": [
    "from pandas import pivot_table\n",
    "\n",
    "\n",
    "sentiments = []\n",
    "sentiment_score = []\n",
    "\n",
    "for h in dn['Title']:\n",
    "    result = finbert(h)[0]\n",
    "    sentiments.append(result['label'])\n",
    "    sentiment_score.append(round(result['score'],2))\n",
    "\n",
    "dn['sentiment_score'] = sentiment_score\n",
    "dn['sentiment'] = sentiments\n",
    "\n",
    "# print(dn.head(11))\n",
    "\n",
    "# Mean sentiment score per day\n",
    "daily_mean = groupby(\"Date\", sort= False)[\"sentiment_score\"].mean().round(2).reset_index(name=\"mean_sentiment\")\n",
    "\n",
    "# Mean per sentiment category\n",
    "pivot = pivot_table(values=\"sentiment_score\", index=\"Date\", columns=\"sentiment\", aggfunc=\"mean\", sort= False)\n",
    "\n",
    "# Merge them\n",
    "result = daily_mean.merge(pivot, on=\"Date\", how=\"left\").fillna(0)\n",
    "\n",
    "# print(result)\n",
    "# Save to CSV\n",
    "result.to_csv(\"processed_data.csv\", index=False)\n"
   ]
  },
  {
   "cell_type": "code",
   "execution_count": 21,
   "id": "87a30d8b",
   "metadata": {},
   "outputs": [
    {
     "data": {
      "text/plain": [
       "Date\n",
       "1/2/2008     0.83\n",
       "1/3/2008     1.00\n",
       "1/7/2008     0.98\n",
       "1/9/2008     0.99\n",
       "1/10/2008    0.88\n",
       "1/22/2008    1.00\n",
       "Name: sentiment_score, dtype: float64"
      ]
     },
     "execution_count": 21,
     "metadata": {},
     "output_type": "execute_result"
    }
   ],
   "source": [
    "dn.iloc[0:11].groupby('Date', sort= False)['sentiment_score'].mean().round(2)\n"
   ]
  },
  {
   "cell_type": "code",
   "execution_count": 22,
   "id": "cd8a5b2d",
   "metadata": {},
   "outputs": [],
   "source": [
    "# dm = pd.merge(dn, df , how=\"right\" , on=\"Date\")\n",
    "# dm.fillna(0)\n",
    "# dm.head(20)"
   ]
  },
  {
   "cell_type": "code",
   "execution_count": null,
   "id": "08ebc239",
   "metadata": {},
   "outputs": [],
   "source": []
  },
  {
   "cell_type": "code",
   "execution_count": null,
   "id": "70ead68b",
   "metadata": {},
   "outputs": [],
   "source": []
  }
 ],
 "metadata": {
  "kernelspec": {
   "display_name": "myenv",
   "language": "python",
   "name": "python3"
  },
  "language_info": {
   "codemirror_mode": {
    "name": "ipython",
    "version": 3
   },
   "file_extension": ".py",
   "mimetype": "text/x-python",
   "name": "python",
   "nbconvert_exporter": "python",
   "pygments_lexer": "ipython3",
   "version": "3.13.1"
  }
 },
 "nbformat": 4,
 "nbformat_minor": 5
}
