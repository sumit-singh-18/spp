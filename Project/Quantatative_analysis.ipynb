{
 "cells": [
  {
   "cell_type": "code",
   "execution_count": 23,
   "id": "0fb59b69",
   "metadata": {},
   "outputs": [],
   "source": [
    "import pandas as pd\n",
    "import numpy as np\n",
    "import ta"
   ]
  },
  {
   "cell_type": "code",
   "execution_count": 24,
   "id": "4bd3dafc",
   "metadata": {},
   "outputs": [],
   "source": [
    "df = pd.read_csv('sp500_ohlcv_2008_2023.csv')  \n",
    "df.reset_index(drop=True, inplace=True)\n",
    "\n",
    "for col in ['Open', 'High', 'Low', 'Close', 'Volume']:\n",
    "    df[col] = pd.to_numeric(df[col], errors='coerce')"
   ]
  },
  {
   "cell_type": "code",
   "execution_count": 25,
   "id": "e09d15db",
   "metadata": {},
   "outputs": [],
   "source": [
    "# Convert Close to numeric, invalid parsing will become NaN\n",
    "df['Close'] = pd.to_numeric(df['Close'], errors='coerce')\n",
    "\n",
    "# Now calculate returns\n",
    "df['Return'] = df['Close'].pct_change(fill_method=None)\n"
   ]
  },
  {
   "cell_type": "code",
   "execution_count": 26,
   "id": "93953692",
   "metadata": {},
   "outputs": [],
   "source": [
    "df['Target'] = np.where(df['Return'].shift(-1) > 0, 1, 0)\n"
   ]
  },
  {
   "cell_type": "code",
   "execution_count": 27,
   "id": "d8dcfcae",
   "metadata": {},
   "outputs": [],
   "source": [
    "for lag in range(1, 6):\n",
    "    df[f'Return_lag{lag}'] = df['Return'].shift(lag)\n",
    "    df[f'Volume_lag{lag}'] = df['Volume'].shift(lag)\n"
   ]
  },
  {
   "cell_type": "code",
   "execution_count": 28,
   "id": "3390ea00",
   "metadata": {},
   "outputs": [],
   "source": [
    "# SMA\n",
    "df['SMA_10'] = ta.trend.sma_indicator(df['Close'], window=10)\n",
    "# EMA\n",
    "df['EMA_10'] = ta.trend.ema_indicator(df['Close'], window=10)\n",
    "# RSI\n",
    "df['RSI_14'] = ta.momentum.rsi(df['Close'], window=14)\n",
    "# MACD\n",
    "df['MACD'] = ta.trend.macd(df['Close'])\n",
    "df['MACD_signal'] = ta.trend.macd_signal(df['Close'])\n",
    "# Bollinger Bands\n",
    "bb = ta.volatility.BollingerBands(df['Close'], window=20, window_dev=2)\n",
    "df['BB_High'] = bb.bollinger_hband()\n",
    "df['BB_Low'] = bb.bollinger_lband()\n",
    "# ATR\n",
    "df['ATR_14'] = ta.volatility.average_true_range(df['High'], df['Low'], df['Close'], window=14)\n"
   ]
  },
  {
   "cell_type": "code",
   "execution_count": 29,
   "id": "d6e2ed9f",
   "metadata": {},
   "outputs": [],
   "source": [
    "df = df.dropna().reset_index(drop=True)\n"
   ]
  },
  {
   "cell_type": "code",
   "execution_count": 30,
   "id": "b30e4368",
   "metadata": {},
   "outputs": [
    {
     "name": "stdout",
     "output_type": "stream",
     "text": [
      "        Date        Close         High          Low         Open      Volume  \\\n",
      "0  2/20/2008  1360.030029  1363.709961  1336.550049  1348.390015  3870520000   \n",
      "1  2/21/2008  1342.530029  1367.939941  1339.339966  1362.209961  3696660000   \n",
      "2  2/22/2008  1353.109985  1354.300049  1327.040039  1344.219971  3572660000   \n",
      "3  2/25/2008  1371.800049  1374.359985  1346.030029  1352.750000  3866350000   \n",
      "4  2/26/2008  1381.290039  1387.339966  1363.290039  1371.760010  4096060000   \n",
      "\n",
      "     Return  Target  Return_lag1   Volume_lag1  ...  Return_lag5  \\\n",
      "0  0.008341       0    -0.000896  3.613550e+09  ...     0.007266   \n",
      "1 -0.012867       1     0.008341  3.870520e+09  ...     0.013604   \n",
      "2  0.007881       1    -0.012867  3.696660e+09  ...    -0.013421   \n",
      "3  0.013813       1     0.007881  3.572660e+09  ...     0.000838   \n",
      "4  0.006918       0     0.013813  3.866350e+09  ...    -0.000896   \n",
      "\n",
      "    Volume_lag5       SMA_10       EMA_10     RSI_14       MACD  MACD_signal  \\\n",
      "0  4.044640e+09  1345.751001  1352.021502  48.901623 -10.252352   -13.926977   \n",
      "1  3.856420e+09  1347.359009  1350.295779  44.172116 -10.283449   -13.198272   \n",
      "2  3.644760e+09  1348.979004  1350.807453  47.479266  -9.346638   -12.427945   \n",
      "3  3.583300e+09  1353.030005  1354.624289  52.798731  -7.015210   -11.345398   \n",
      "4  3.613550e+09  1357.246008  1359.472607  55.275699  -4.351610    -9.946640   \n",
      "\n",
      "       BB_High       BB_Low     ATR_14  \n",
      "0  1387.393425  1316.835579  27.135977  \n",
      "1  1387.329456  1317.292553  27.240549  \n",
      "2  1387.382960  1317.343053  27.241939  \n",
      "3  1388.923986  1319.921033  27.319654  \n",
      "4  1392.219943  1319.358085  27.086102  \n",
      "\n",
      "[5 rows x 26 columns]\n"
     ]
    }
   ],
   "source": [
    "print(df.head(5))"
   ]
  },
  {
   "cell_type": "code",
   "execution_count": 31,
   "id": "d470ce8f",
   "metadata": {},
   "outputs": [
    {
     "name": "stdout",
     "output_type": "stream",
     "text": [
      "Index(['Date', 'Close', 'High', 'Low', 'Open', 'Volume', 'Return', 'Target',\n",
      "       'Return_lag1', 'Volume_lag1', 'Return_lag2', 'Volume_lag2',\n",
      "       'Return_lag3', 'Volume_lag3', 'Return_lag4', 'Volume_lag4',\n",
      "       'Return_lag5', 'Volume_lag5', 'SMA_10', 'EMA_10', 'RSI_14', 'MACD',\n",
      "       'MACD_signal', 'BB_High', 'BB_Low', 'ATR_14'],\n",
      "      dtype='object')\n"
     ]
    }
   ],
   "source": [
    "print(df.columns)"
   ]
  },
  {
   "cell_type": "code",
   "execution_count": 34,
   "id": "95b853b7",
   "metadata": {},
   "outputs": [],
   "source": [
    "# Save the updated dataframe to a new CSV file\n",
    "df.to_csv('Updated_file.csv', index=False)\n"
   ]
  },
  {
   "cell_type": "code",
   "execution_count": null,
   "id": "40f5afa0",
   "metadata": {},
   "outputs": [],
   "source": []
  }
 ],
 "metadata": {
  "kernelspec": {
   "display_name": "myenv",
   "language": "python",
   "name": "python3"
  },
  "language_info": {
   "codemirror_mode": {
    "name": "ipython",
    "version": 3
   },
   "file_extension": ".py",
   "mimetype": "text/x-python",
   "name": "python",
   "nbconvert_exporter": "python",
   "pygments_lexer": "ipython3",
   "version": "3.13.1"
  }
 },
 "nbformat": 4,
 "nbformat_minor": 5
}
